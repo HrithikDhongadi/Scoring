{
 "cells": [
  {
   "cell_type": "code",
   "execution_count": null,
   "metadata": {},
   "outputs": [],
   "source": [
    "def truncateAll():\n",
    "    file2 = open(\"Caster1.txt\",\"w+\")\n",
    "    file2.truncate()\n",
    "    file2.close()\n",
    "\n",
    "    file2 = open(\"Caster2.txt\",\"w+\")\n",
    "    file2.truncate()\n",
    "    file2.close()\n",
    "\n",
    "    file2 = open(\"Caster3.txt\",\"w+\")\n",
    "    file2.truncate()\n",
    "    file2.close()"
   ]
  },
  {
   "cell_type": "code",
   "execution_count": null,
   "metadata": {},
   "outputs": [],
   "source": [
    "def teamScoreRefresh(a,b):\n",
    "    file2 = open(\"TeamAScore.txt\",\"w+\")\n",
    "    file2.truncate()\n",
    "    file2.write(str(a))\n",
    "    file2.close()\n",
    "\n",
    "    file2 = open(\"TeamBScore.txt\",\"w+\")\n",
    "    file2.truncate()\n",
    "    file2.write(str(b))\n",
    "    file2.close()"
   ]
  },
  {
   "cell_type": "code",
   "execution_count": null,
   "metadata": {},
   "outputs": [],
   "source": [
    "def shots_remaining():\n",
    "    global shot_left\n",
    "    file2 = open(\"shotLeft.txt\",\"w+\")\n",
    "    file2.truncate()\n",
    "    file2.write(str(shot_left))\n",
    "    if(shot_left == \"Over\"):\n",
    "        shot_left=11\n",
    "    shot_left-=1\n",
    "    file2.close()\n",
    "    if(shot_left==0):\n",
    "        shot_left=\"Over\"    "
   ]
  },
  {
   "cell_type": "code",
   "execution_count": null,
   "metadata": {},
   "outputs": [],
   "source": [
    "def enterScore(filePath, caster):\n",
    "    file2 = open(filePath,\"w+\")\n",
    "    file2.truncate()\n",
    "    caster = int(input(f\"Enter Caster {filePath[6]} Score: \"))\n",
    "    file2.write(str(caster))\n",
    "    file2.close()"
   ]
  },
  {
   "cell_type": "code",
   "execution_count": null,
   "metadata": {},
   "outputs": [],
   "source": [
    "def casterscore(isTeamA):\n",
    "    truncateAll()\n",
    "    global caster1, caster2, caster3, teamATotal, teamBTotal\n",
    "\n",
    "    enterScore(\"Caster1.txt\", caster1)\n",
    "    enterScore(\"Caster2.txt\", caster2)\n",
    "    enterScore(\"Caster3.txt\", caster3)\n",
    "\n",
    "    total = caster1 + caster2 + caster3\n",
    "\n",
    "    if((teamATotal < total) and isTeamA):\n",
    "        teamATotal = total\n",
    "        file2 = open(\"TeamAScore.txt\",\"w+\")\n",
    "        file2.truncate()\n",
    "        file2.write(str(total))\n",
    "        file2.close()\n",
    "\n",
    "    if((teamBTotal < total) and not isTeamA):\n",
    "        teamBTotal = total \n",
    "        file2 = open(\"TeamBScore.txt\",\"w+\")\n",
    "        file2.truncate()\n",
    "        file2.write(str(total))\n",
    "        file2.close()"
   ]
  },
  {
   "cell_type": "code",
   "execution_count": null,
   "metadata": {},
   "outputs": [],
   "source": [
    "shot_left = 10\n",
    "caster1 = 0\n",
    "caster2 = 0\n",
    "caster3 = 0 \n",
    "teamATotal = 0\n",
    "teamBTotal = 0"
   ]
  },
  {
   "cell_type": "code",
   "execution_count": null,
   "metadata": {},
   "outputs": [],
   "source": [
    "print(shot_left, caster1, caster2, caster3, teamATotal, teamBTotal)"
   ]
  },
  {
   "cell_type": "code",
   "execution_count": null,
   "metadata": {},
   "outputs": [],
   "source": [
    "# Shots Remaining In the Match\n",
    "shots_remaining()"
   ]
  },
  {
   "cell_type": "code",
   "execution_count": null,
   "metadata": {},
   "outputs": [],
   "source": [
    "# Team A Scoring\n",
    "casterscore(True)"
   ]
  },
  {
   "cell_type": "code",
   "execution_count": null,
   "metadata": {},
   "outputs": [],
   "source": [
    "# Team B Scoring\n",
    "casterscore(False)"
   ]
  },
  {
   "cell_type": "code",
   "execution_count": null,
   "metadata": {},
   "outputs": [],
   "source": [
    "# Reset Both Team Scores\n",
    "teamScoreRefresh(0,0)"
   ]
  }
 ],
 "metadata": {
  "kernelspec": {
   "display_name": "Python 3.9.13 64-bit (microsoft store)",
   "language": "python",
   "name": "python3"
  },
  "language_info": {
   "name": "python",
   "version": "3.9.13"
  },
  "orig_nbformat": 4,
  "vscode": {
   "interpreter": {
    "hash": "424132f172b9d66808889f6580fcd7a1a6724dd9f232cc832e17b88367c86b21"
   }
  }
 },
 "nbformat": 4,
 "nbformat_minor": 2
}
